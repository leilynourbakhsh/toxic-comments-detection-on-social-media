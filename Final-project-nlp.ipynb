{
 "cells": [
  {
   "cell_type": "code",
   "execution_count": 1,
   "id": "1099e92e",
   "metadata": {},
   "outputs": [],
   "source": [
    "import numpy as np\n",
    "import pandas as pd\n",
    "import os\n",
    "import seaborn as sns\n",
    "import matplotlib.pyplot as plt\n",
    "import re\n",
    "import nltk\n",
    "from nltk.stem.porter import PorterStemmer\n",
    "from nltk.stem import WordNetLemmatizer\n",
    "from nltk.tokenize import word_tokenize\n",
    "from nltk.corpus import stopwords\n",
    "import string\n",
    "import random\n",
    "import tensorflow as tf\n",
    "from tensorflow.keras import models\n",
    "from tensorflow.keras import layers\n",
    "from tensorflow.keras import losses\n",
    "from tensorflow.keras import metrics\n",
    "from tensorflow.keras import optimizers\n",
    "\n",
    "os.environ['PYTHONHASHSEED']=str(42)\n",
    "random.seed(42)\n",
    "np.random.seed(42)\n",
    "tf.random.set_seed(42)\n",
    "\n",
    "pd.set_option('display.max_colwidth', None)"
   ]
  },
  {
   "cell_type": "code",
   "execution_count": 2,
   "id": "dafd0878",
   "metadata": {},
   "outputs": [],
   "source": [
    "stop_words = stopwords.words('english')\n",
    "embed_dim = 300\n",
    "batch_size = 256"
   ]
  },
  {
   "cell_type": "code",
   "execution_count": 3,
   "id": "ed64a0ed",
   "metadata": {},
   "outputs": [],
   "source": [
    "# training data\n",
    "train = pd.read_csv('train.csv.zip')\n",
    "# testing data\n",
    "test = pd.read_csv('test.csv.zip')"
   ]
  },
  {
   "cell_type": "code",
   "execution_count": 4,
   "id": "e55809b5",
   "metadata": {},
   "outputs": [
    {
     "name": "stdout",
     "output_type": "stream",
     "text": [
      "<class 'pandas.core.frame.DataFrame'>\n",
      "RangeIndex: 159571 entries, 0 to 159570\n",
      "Data columns (total 8 columns):\n",
      " #   Column         Non-Null Count   Dtype \n",
      "---  ------         --------------   ----- \n",
      " 0   id             159571 non-null  object\n",
      " 1   comment_text   159571 non-null  object\n",
      " 2   toxic          159571 non-null  int64 \n",
      " 3   severe_toxic   159571 non-null  int64 \n",
      " 4   obscene        159571 non-null  int64 \n",
      " 5   threat         159571 non-null  int64 \n",
      " 6   insult         159571 non-null  int64 \n",
      " 7   identity_hate  159571 non-null  int64 \n",
      "dtypes: int64(6), object(2)\n",
      "memory usage: 9.7+ MB\n"
     ]
    }
   ],
   "source": [
    "train.info()"
   ]
  },
  {
   "cell_type": "code",
   "execution_count": 5,
   "id": "f42a97d0",
   "metadata": {},
   "outputs": [
    {
     "data": {
      "text/html": [
       "<div>\n",
       "<style scoped>\n",
       "    .dataframe tbody tr th:only-of-type {\n",
       "        vertical-align: middle;\n",
       "    }\n",
       "\n",
       "    .dataframe tbody tr th {\n",
       "        vertical-align: top;\n",
       "    }\n",
       "\n",
       "    .dataframe thead th {\n",
       "        text-align: right;\n",
       "    }\n",
       "</style>\n",
       "<table border=\"1\" class=\"dataframe\">\n",
       "  <thead>\n",
       "    <tr style=\"text-align: right;\">\n",
       "      <th></th>\n",
       "      <th>id</th>\n",
       "      <th>comment_text</th>\n",
       "      <th>toxic</th>\n",
       "      <th>severe_toxic</th>\n",
       "      <th>obscene</th>\n",
       "      <th>threat</th>\n",
       "      <th>insult</th>\n",
       "      <th>identity_hate</th>\n",
       "    </tr>\n",
       "  </thead>\n",
       "  <tbody>\n",
       "    <tr>\n",
       "      <th>0</th>\n",
       "      <td>0000997932d777bf</td>\n",
       "      <td>Explanation\\nWhy the edits made under my username Hardcore Metallica Fan were reverted? They weren't vandalisms, just closure on some GAs after I voted at New York Dolls FAC. And please don't remove the template from the talk page since I'm retired now.89.205.38.27</td>\n",
       "      <td>0</td>\n",
       "      <td>0</td>\n",
       "      <td>0</td>\n",
       "      <td>0</td>\n",
       "      <td>0</td>\n",
       "      <td>0</td>\n",
       "    </tr>\n",
       "    <tr>\n",
       "      <th>1</th>\n",
       "      <td>000103f0d9cfb60f</td>\n",
       "      <td>D'aww! He matches this background colour I'm seemingly stuck with. Thanks.  (talk) 21:51, January 11, 2016 (UTC)</td>\n",
       "      <td>0</td>\n",
       "      <td>0</td>\n",
       "      <td>0</td>\n",
       "      <td>0</td>\n",
       "      <td>0</td>\n",
       "      <td>0</td>\n",
       "    </tr>\n",
       "    <tr>\n",
       "      <th>2</th>\n",
       "      <td>000113f07ec002fd</td>\n",
       "      <td>Hey man, I'm really not trying to edit war. It's just that this guy is constantly removing relevant information and talking to me through edits instead of my talk page. He seems to care more about the formatting than the actual info.</td>\n",
       "      <td>0</td>\n",
       "      <td>0</td>\n",
       "      <td>0</td>\n",
       "      <td>0</td>\n",
       "      <td>0</td>\n",
       "      <td>0</td>\n",
       "    </tr>\n",
       "    <tr>\n",
       "      <th>3</th>\n",
       "      <td>0001b41b1c6bb37e</td>\n",
       "      <td>\"\\nMore\\nI can't make any real suggestions on improvement - I wondered if the section statistics should be later on, or a subsection of \"\"types of accidents\"\"  -I think the references may need tidying so that they are all in the exact same format ie date format etc. I can do that later on, if no-one else does first - if you have any preferences for formatting style on references or want to do it yourself please let me know.\\n\\nThere appears to be a backlog on articles for review so I guess there may be a delay until a reviewer turns up. It's listed in the relevant form eg Wikipedia:Good_article_nominations#Transport  \"</td>\n",
       "      <td>0</td>\n",
       "      <td>0</td>\n",
       "      <td>0</td>\n",
       "      <td>0</td>\n",
       "      <td>0</td>\n",
       "      <td>0</td>\n",
       "    </tr>\n",
       "    <tr>\n",
       "      <th>4</th>\n",
       "      <td>0001d958c54c6e35</td>\n",
       "      <td>You, sir, are my hero. Any chance you remember what page that's on?</td>\n",
       "      <td>0</td>\n",
       "      <td>0</td>\n",
       "      <td>0</td>\n",
       "      <td>0</td>\n",
       "      <td>0</td>\n",
       "      <td>0</td>\n",
       "    </tr>\n",
       "  </tbody>\n",
       "</table>\n",
       "</div>"
      ],
      "text/plain": [
       "                 id  \\\n",
       "0  0000997932d777bf   \n",
       "1  000103f0d9cfb60f   \n",
       "2  000113f07ec002fd   \n",
       "3  0001b41b1c6bb37e   \n",
       "4  0001d958c54c6e35   \n",
       "\n",
       "                                                                                                                                                                                                                                                                                                                                                                                                                                                                                                                                                                                                                                         comment_text  \\\n",
       "0                                                                                                                                                                                                                                                                                                                                                                           Explanation\\nWhy the edits made under my username Hardcore Metallica Fan were reverted? They weren't vandalisms, just closure on some GAs after I voted at New York Dolls FAC. And please don't remove the template from the talk page since I'm retired now.89.205.38.27   \n",
       "1                                                                                                                                                                                                                                                                                                                                                                                                                                                                                                                                    D'aww! He matches this background colour I'm seemingly stuck with. Thanks.  (talk) 21:51, January 11, 2016 (UTC)   \n",
       "2                                                                                                                                                                                                                                                                                                                                                                                                           Hey man, I'm really not trying to edit war. It's just that this guy is constantly removing relevant information and talking to me through edits instead of my talk page. He seems to care more about the formatting than the actual info.   \n",
       "3  \"\\nMore\\nI can't make any real suggestions on improvement - I wondered if the section statistics should be later on, or a subsection of \"\"types of accidents\"\"  -I think the references may need tidying so that they are all in the exact same format ie date format etc. I can do that later on, if no-one else does first - if you have any preferences for formatting style on references or want to do it yourself please let me know.\\n\\nThere appears to be a backlog on articles for review so I guess there may be a delay until a reviewer turns up. It's listed in the relevant form eg Wikipedia:Good_article_nominations#Transport  \"   \n",
       "4                                                                                                                                                                                                                                                                                                                                                                                                                                                                                                                                                                                 You, sir, are my hero. Any chance you remember what page that's on?   \n",
       "\n",
       "   toxic  severe_toxic  obscene  threat  insult  identity_hate  \n",
       "0      0             0        0       0       0              0  \n",
       "1      0             0        0       0       0              0  \n",
       "2      0             0        0       0       0              0  \n",
       "3      0             0        0       0       0              0  \n",
       "4      0             0        0       0       0              0  "
      ]
     },
     "execution_count": 5,
     "metadata": {},
     "output_type": "execute_result"
    }
   ],
   "source": [
    "train.head()"
   ]
  },
  {
   "cell_type": "code",
   "execution_count": 6,
   "id": "517dfab0",
   "metadata": {},
   "outputs": [
    {
     "data": {
      "text/html": [
       "<div>\n",
       "<style scoped>\n",
       "    .dataframe tbody tr th:only-of-type {\n",
       "        vertical-align: middle;\n",
       "    }\n",
       "\n",
       "    .dataframe tbody tr th {\n",
       "        vertical-align: top;\n",
       "    }\n",
       "\n",
       "    .dataframe thead th {\n",
       "        text-align: right;\n",
       "    }\n",
       "</style>\n",
       "<table border=\"1\" class=\"dataframe\">\n",
       "  <thead>\n",
       "    <tr style=\"text-align: right;\">\n",
       "      <th></th>\n",
       "      <th>id</th>\n",
       "      <th>comment_text</th>\n",
       "    </tr>\n",
       "  </thead>\n",
       "  <tbody>\n",
       "    <tr>\n",
       "      <th>0</th>\n",
       "      <td>00001cee341fdb12</td>\n",
       "      <td>Yo bitch Ja Rule is more succesful then you'll ever be whats up with you and hating you sad mofuckas...i should bitch slap ur pethedic white faces and get you to kiss my ass you guys sicken me. Ja rule is about pride in da music man. dont diss that shit on him. and nothin is wrong bein like tupac he was a brother too...fuckin white boys get things right next time.,</td>\n",
       "    </tr>\n",
       "    <tr>\n",
       "      <th>1</th>\n",
       "      <td>0000247867823ef7</td>\n",
       "      <td>== From RfC == \\n\\n The title is fine as it is, IMO.</td>\n",
       "    </tr>\n",
       "    <tr>\n",
       "      <th>2</th>\n",
       "      <td>00013b17ad220c46</td>\n",
       "      <td>\" \\n\\n == Sources == \\n\\n * Zawe Ashton on Lapland —  /  \"</td>\n",
       "    </tr>\n",
       "    <tr>\n",
       "      <th>3</th>\n",
       "      <td>00017563c3f7919a</td>\n",
       "      <td>:If you have a look back at the source, the information I updated was the correct form. I can only guess the source hadn't updated. I shall update the information once again but thank you for your message.</td>\n",
       "    </tr>\n",
       "    <tr>\n",
       "      <th>4</th>\n",
       "      <td>00017695ad8997eb</td>\n",
       "      <td>I don't anonymously edit articles at all.</td>\n",
       "    </tr>\n",
       "  </tbody>\n",
       "</table>\n",
       "</div>"
      ],
      "text/plain": [
       "                 id  \\\n",
       "0  00001cee341fdb12   \n",
       "1  0000247867823ef7   \n",
       "2  00013b17ad220c46   \n",
       "3  00017563c3f7919a   \n",
       "4  00017695ad8997eb   \n",
       "\n",
       "                                                                                                                                                                                                                                                                                                                                                                      comment_text  \n",
       "0  Yo bitch Ja Rule is more succesful then you'll ever be whats up with you and hating you sad mofuckas...i should bitch slap ur pethedic white faces and get you to kiss my ass you guys sicken me. Ja rule is about pride in da music man. dont diss that shit on him. and nothin is wrong bein like tupac he was a brother too...fuckin white boys get things right next time.,  \n",
       "1                                                                                                                                                                                                                                                                                                                             == From RfC == \\n\\n The title is fine as it is, IMO.  \n",
       "2                                                                                                                                                                                                                                                                                                                       \" \\n\\n == Sources == \\n\\n * Zawe Ashton on Lapland —  /  \"  \n",
       "3                                                                                                                                                                    :If you have a look back at the source, the information I updated was the correct form. I can only guess the source hadn't updated. I shall update the information once again but thank you for your message.  \n",
       "4                                                                                                                                                                                                                                                                                                                                        I don't anonymously edit articles at all.  "
      ]
     },
     "execution_count": 6,
     "metadata": {},
     "output_type": "execute_result"
    }
   ],
   "source": [
    "test.head()"
   ]
  },
  {
   "cell_type": "markdown",
   "id": "4d100c03",
   "metadata": {},
   "source": [
    "## check null values"
   ]
  },
  {
   "cell_type": "code",
   "execution_count": 7,
   "id": "e38a8d64",
   "metadata": {},
   "outputs": [
    {
     "data": {
      "text/plain": [
       "id               0\n",
       "comment_text     0\n",
       "toxic            0\n",
       "severe_toxic     0\n",
       "obscene          0\n",
       "threat           0\n",
       "insult           0\n",
       "identity_hate    0\n",
       "dtype: int64"
      ]
     },
     "execution_count": 7,
     "metadata": {},
     "output_type": "execute_result"
    }
   ],
   "source": [
    "train.isnull().sum()"
   ]
  },
  {
   "cell_type": "code",
   "execution_count": 8,
   "id": "e4cec38e",
   "metadata": {},
   "outputs": [
    {
     "data": {
      "text/plain": [
       "['toxic', 'severe_toxic', 'obscene', 'threat', 'insult', 'identity_hate']"
      ]
     },
     "execution_count": 8,
     "metadata": {},
     "output_type": "execute_result"
    }
   ],
   "source": [
    "# label column names\n",
    "label_names = list(train.columns[2:])\n",
    "label_names"
   ]
  },
  {
   "cell_type": "code",
   "execution_count": 9,
   "id": "7111fb8e",
   "metadata": {},
   "outputs": [
    {
     "data": {
      "text/html": [
       "<div>\n",
       "<style scoped>\n",
       "    .dataframe tbody tr th:only-of-type {\n",
       "        vertical-align: middle;\n",
       "    }\n",
       "\n",
       "    .dataframe tbody tr th {\n",
       "        vertical-align: top;\n",
       "    }\n",
       "\n",
       "    .dataframe thead th {\n",
       "        text-align: right;\n",
       "    }\n",
       "</style>\n",
       "<table border=\"1\" class=\"dataframe\">\n",
       "  <thead>\n",
       "    <tr style=\"text-align: right;\">\n",
       "      <th></th>\n",
       "      <th>toxic</th>\n",
       "      <th>severe_toxic</th>\n",
       "      <th>obscene</th>\n",
       "      <th>threat</th>\n",
       "      <th>insult</th>\n",
       "      <th>identity_hate</th>\n",
       "    </tr>\n",
       "  </thead>\n",
       "  <tbody>\n",
       "    <tr>\n",
       "      <th>0</th>\n",
       "      <td>0</td>\n",
       "      <td>0</td>\n",
       "      <td>0</td>\n",
       "      <td>0</td>\n",
       "      <td>0</td>\n",
       "      <td>0</td>\n",
       "    </tr>\n",
       "    <tr>\n",
       "      <th>1</th>\n",
       "      <td>0</td>\n",
       "      <td>0</td>\n",
       "      <td>0</td>\n",
       "      <td>0</td>\n",
       "      <td>0</td>\n",
       "      <td>0</td>\n",
       "    </tr>\n",
       "    <tr>\n",
       "      <th>2</th>\n",
       "      <td>0</td>\n",
       "      <td>0</td>\n",
       "      <td>0</td>\n",
       "      <td>0</td>\n",
       "      <td>0</td>\n",
       "      <td>0</td>\n",
       "    </tr>\n",
       "    <tr>\n",
       "      <th>3</th>\n",
       "      <td>0</td>\n",
       "      <td>0</td>\n",
       "      <td>0</td>\n",
       "      <td>0</td>\n",
       "      <td>0</td>\n",
       "      <td>0</td>\n",
       "    </tr>\n",
       "    <tr>\n",
       "      <th>4</th>\n",
       "      <td>0</td>\n",
       "      <td>0</td>\n",
       "      <td>0</td>\n",
       "      <td>0</td>\n",
       "      <td>0</td>\n",
       "      <td>0</td>\n",
       "    </tr>\n",
       "  </tbody>\n",
       "</table>\n",
       "</div>"
      ],
      "text/plain": [
       "   toxic  severe_toxic  obscene  threat  insult  identity_hate\n",
       "0      0             0        0       0       0              0\n",
       "1      0             0        0       0       0              0\n",
       "2      0             0        0       0       0              0\n",
       "3      0             0        0       0       0              0\n",
       "4      0             0        0       0       0              0"
      ]
     },
     "execution_count": 9,
     "metadata": {},
     "output_type": "execute_result"
    }
   ],
   "source": [
    "label = train[['toxic', 'severe_toxic' , 'obscene' , 'threat' , 'insult' , 'identity_hate']]\n",
    "label.head()"
   ]
  },
  {
   "cell_type": "markdown",
   "id": "3f755083",
   "metadata": {},
   "source": [
    "## the frequency of each type of labels"
   ]
  },
  {
   "cell_type": "code",
   "execution_count": 10,
   "id": "2621e893",
   "metadata": {},
   "outputs": [
    {
     "name": "stdout",
     "output_type": "stream",
     "text": [
      "samples having no label : 143346\n",
      "samples having exactly one label : 6360\n",
      "samples having 2 or more than 2 labels : 9865\n"
     ]
    }
   ],
   "source": [
    "ct0 = (label.astype(bool).sum(axis=1)==0).astype(bool).sum()\n",
    "ct1 = (label.astype(bool).sum(axis=1)==1).astype(bool).sum()\n",
    "ct2 = (label.astype(bool).sum(axis=1)>=2).astype(bool).sum()\n",
    "\n",
    "print(f\"samples having no label : {ct0}\")\n",
    "print(f\"samples having exactly one label : {ct1}\")\n",
    "print(f\"samples having 2 or more than 2 labels : {ct2}\")"
   ]
  },
  {
   "cell_type": "code",
   "execution_count": 11,
   "id": "44397778",
   "metadata": {},
   "outputs": [
    {
     "name": "stdout",
     "output_type": "stream",
     "text": [
      "168\n"
     ]
    }
   ],
   "source": [
    "seq_len_series = train['comment_text'].apply(lambda words: len(words.split(\" \")))\n",
    "max_seq_len = np.round(seq_len_series.mean() + seq_len_series.std()).astype(int)\n",
    "\n",
    "print(max_seq_len)"
   ]
  },
  {
   "cell_type": "code",
   "execution_count": 12,
   "id": "c08c8e4d",
   "metadata": {},
   "outputs": [
    {
     "name": "stdout",
     "output_type": "stream",
     "text": [
      "average length of comment: 394.073\n"
     ]
    },
    {
     "data": {
      "image/png": "[encoded data removed]",
      "text/plain": [
       "<Figure size 432x288 with 1 Axes>"
      ]
     },
     "metadata": {
      "needs_background": "light"
     },
     "output_type": "display_data"
    }
   ],
   "source": [
    "x = [len(train['comment_text'][i]) for i in range(train['comment_text'].shape[0])]\n",
    "\n",
    "print('average length of comment: {:.3f}'.format(sum(x)/len(x)) )\n",
    "bins = [1, 200, 400, 600, 800, 1000, 1200]\n",
    "plt.hist(x, bins=bins)\n",
    "plt.xlabel('Length of comments')\n",
    "plt.ylabel('Number of comments')       \n",
    "plt.axis([0, 1200, 0, 90000])\n",
    "plt.grid(True)\n",
    "plt.show()"
   ]
  },
  {
   "cell_type": "code",
   "execution_count": 13,
   "id": "897512d2",
   "metadata": {},
   "outputs": [
    {
     "data": {
      "image/png": "[encoded data removed]",
      "text/plain": [
       "<Figure size 1080x720 with 1 Axes>"
      ]
     },
     "metadata": {
      "needs_background": "light"
     },
     "output_type": "display_data"
    }
   ],
   "source": [
    "y = np.zeros(label.shape)\n",
    "for ix in range(train['comment_text'].shape[0]):\n",
    "    l = len(train['comment_text'][ix])\n",
    "    if label['toxic'].iloc[ix] :\n",
    "        y[ix][0] = l\n",
    "    if label['severe_toxic'].iloc[ix] :\n",
    "        y[ix][1] = l\n",
    "    if label['obscene'].iloc[ix] :\n",
    "        y[ix][2] = l\n",
    "    if label['threat'].iloc[ix] :\n",
    "        y[ix][3] = l\n",
    "    if label['insult'].iloc[ix] :\n",
    "        y[ix][4] = l\n",
    "    if label['identity_hate'].iloc[ix] :\n",
    "        y[ix][5] = l\n",
    "\n",
    "labelsplt = ['toxic','severe_toxic','obscene','threat','insult','identity_hate']\n",
    "color = ['red','green','blue','yellow','orange','chartreuse']  \n",
    "plt.figure(figsize=(15, 10))\n",
    "plt.hist(y, bins=bins, label=labelsplt, color=color)\n",
    "plt.axis([0, 1200, 0, 8000])\n",
    "plt.xlabel('Length of comments')\n",
    "plt.ylabel('Number of comments') \n",
    "plt.legend()\n",
    "plt.grid(True)\n",
    "plt.show()"
   ]
  },
  {
   "cell_type": "code",
   "execution_count": 14,
   "id": "773aed41",
   "metadata": {},
   "outputs": [
    {
     "data": {
      "text/plain": [
       "<BarContainer object of 6 artists>"
      ]
     },
     "execution_count": 14,
     "metadata": {},
     "output_type": "execute_result"
    },
    {
     "data": {
      "image/png": "[encoded data removed]",
      "text/plain": [
       "<Figure size 432x288 with 1 Axes>"
      ]
     },
     "metadata": {
      "needs_background": "light"
     },
     "output_type": "display_data"
    }
   ],
   "source": [
    "plt.barh(labelsplt, train[label_names].sum(axis = 0),color=color)"
   ]
  },
  {
   "cell_type": "markdown",
   "id": "56cf14fe",
   "metadata": {},
   "source": [
    "## text normalization"
   ]
  },
  {
   "cell_type": "code",
   "execution_count": 15,
   "id": "d0defac9",
   "metadata": {},
   "outputs": [],
   "source": [
    "def to_lowercase(text):\n",
    "    return text.lower()\n",
    "\n",
    "# remove website links\n",
    "def remove_links(text):\n",
    "    template = re.compile(r'https?://\\S+|www\\.\\S+') \n",
    "    text = template.sub(r'', text)\n",
    "    return text\n",
    "\n",
    "# remove HTML tags\n",
    "def remove_html(text):\n",
    "    template = re.compile(r'<[^>]*>') \n",
    "    text = template.sub(r'', text)\n",
    "    return text\n",
    "\n",
    "def text2words(text):\n",
    "      return word_tokenize(text)\n",
    "\n",
    "# remove stopwords\n",
    "def remove_stopwords(words, stop_words):\n",
    "    return [word for word in words if word not in stop_words]\n",
    "\n",
    "# remove none ascii characters\n",
    "def remove_non_ascii(text):\n",
    "    template = re.compile(r'[^\\x00-\\x7E]+') \n",
    "    text = template.sub(r'', text)\n",
    "    return text\n",
    "\n",
    "# replace none printable characters\n",
    "def remove_non_printable(text):\n",
    "    template = re.compile(r'[\\x00-\\x0F]+') \n",
    "    text = template.sub(r' ', text)\n",
    "    return text\n",
    "\n",
    "# remove special characters\n",
    "def remove_special_chars(text):\n",
    "        text = re.sub(\"'s\", '', text)\n",
    "        template = re.compile('[\"#$%&\\'()\\*\\+-/:;<=>@\\[\\]\\\\\\\\^_`{|}~]') \n",
    "        text = template.sub(r' ', text)\n",
    "        return text\n",
    "\n",
    "# replace multiple punctuation \n",
    "def replace_multiplt_punc(text):\n",
    "        text = re.sub('[.!?]{2,}', '.', text)\n",
    "        text = re.sub(',+', ',', text) \n",
    "        return text\n",
    "\n",
    "# remove punctuation from list of tokenized words\n",
    "def remove_punctuation(text):\n",
    "    translator = str.maketrans('', '', string.punctuation)\n",
    "    return text.translate(translator)\n",
    "\n",
    "# remove numbers\n",
    "def remove_numbers(text):\n",
    "        text = re.sub('\\d+', ' ', text)\n",
    "        return text\n",
    "\n",
    "def handle_spaces(text):\n",
    "    # remove extra spaces\n",
    "    text = re.sub('\\s+', ' ', text)\n",
    "    \n",
    "    # remove spaces at the beginning and at the end of string\n",
    "    text = text.strip() \n",
    "    \n",
    "    return text\n",
    "\n",
    "# lemmatize words in text\n",
    "def lemmatize_words(words):\n",
    "    lemmatizer = WordNetLemmatizer()\n",
    "    return [lemmatizer.lemmatize(word) for word in words]\n",
    "\n",
    "# lemmatize verbs in text\n",
    "def lemmatize_verbs(words):\n",
    "    lemmatizer = WordNetLemmatizer()\n",
    "    return ([lemmatizer.lemmatize(word, pos='v') for word in words])\n",
    "\n",
    "def remove_pattern(text): \n",
    "    # remove hi moron \n",
    "    text= re.sub(r'(hi)(.*)\\1', r'\\1', text)\n",
    "    # remove duplicate words\n",
    "    text= re.sub(r\"\\b(\\w+)(?:\\W+\\1\\b)+\", r'\\1', text, flags=re.IGNORECASE)\n",
    "    # remove [User:Cirt]] \n",
    "    text= re.sub(r\"\\[.*?\\]\", ' ', text)\n",
    "    # remove \\n\\n\n",
    "    text= re.sub(r\"\\n\", ' ', text)\n",
    "    return text\n",
    "\n",
    "def clean_text( text):\n",
    "    text = remove_pattern(text)\n",
    "    text = remove_links(text)\n",
    "    text = remove_html(text)\n",
    "    text = remove_special_chars(text)\n",
    "    text = remove_non_ascii(text)\n",
    "    text = remove_non_printable(text)\n",
    "    text = remove_numbers(text)\n",
    "    text = remove_punctuation(text)\n",
    "    text = to_lowercase(text)\n",
    "    text = handle_spaces(text)\n",
    "    words = text2words(text)\n",
    "    words = remove_stopwords(words, stop_words)\n",
    "    words = lemmatize_words(words)\n",
    "    words = lemmatize_verbs(words)\n",
    "\n",
    "    return ' '.join(words)"
   ]
  },
  {
   "cell_type": "code",
   "execution_count": 16,
   "id": "f012fd92",
   "metadata": {},
   "outputs": [
    {
     "name": "stdout",
     "output_type": "stream",
     "text": [
      "\"\n",
      "Fair use rationale for Image:Wonju.jpg\n",
      "\n",
      "Thanks for uploading Image:Wonju.jpg. I notice the image page specifies that the image is being used under fair use but there is no explanation or rationale as to why its use in Wikipedia articles constitutes fair use. In addition to the boilerplate fair use template, you must also write out on the image description page a specific explanation or rationale for why using this image in each article is consistent with fair use.\n",
      "\n",
      "Please go to the image description page and edit it to include a fair use rationale.\n",
      "\n",
      "If you have uploaded other fair use media, consider checking that you have specified the fair use rationale on those pages too. You can find a list of 'image' pages you have edited by clicking on the \"\"my contributions\"\" link (it is located at the very top of any Wikipedia page when you are logged in), and then selecting \"\"Image\"\" from the dropdown box. Note that any fair use images uploaded after 4 May, 2006, and lacking such an explanation will be deleted one week after they have been uploaded, as described on criteria for speedy deletion. If you have any questions please ask them at the Media copyright questions page. Thank you. (talk • contribs • ) \n",
      "Unspecified source for Image:Wonju.jpg\n",
      "\n",
      "Thanks for uploading Image:Wonju.jpg. I noticed that the file's description page currently doesn't specify who created the content, so the copyright status is unclear. If you did not create this file yourself, then you will need to specify the owner of the copyright. If you obtained it from a website, then a link to the website from which it was taken, together with a restatement of that website's terms of use of its content, is usually sufficient information. However, if the copyright holder is different from the website's publisher, then their copyright should also be acknowledged.\n",
      "\n",
      "As well as adding the source, please add a proper copyright licensing tag if the file doesn't have one already. If you created/took the picture, audio, or video then the  tag can be used to release it under the GFDL. If you believe the media meets the criteria at Wikipedia:Fair use, use a tag such as  or one of the other tags listed at Wikipedia:Image copyright tags#Fair use. See Wikipedia:Image copyright tags for the full list of copyright tags that you can use.\n",
      "\n",
      "If you have uploaded other files, consider checking that you have specified their source and tagged them, too. You can find a list of files you have uploaded by following [ this link]. Unsourced and untagged images may be deleted one week after they have been tagged, as described on criteria for speedy deletion. If the image is copyrighted under a non-free license (per Wikipedia:Fair use) then the image will be deleted 48 hours after . If you have any questions please ask them at the Media copyright questions page. Thank you. (talk • contribs • ) \"\n",
      "\n",
      "************************* after cleaning text *************************\n",
      "\n",
      "fair use rationale image wonju jpg thank upload image wonju jpg notice image page specify image use fair use explanation rationale use wikipedia article constitute fair use addition boilerplate fair use template must also write image description page specific explanation rationale use image article consistent fair use please go image description page edit include fair use rationale upload fair use medium consider check specify fair use rationale page find list image page edit click contribution link locate top wikipedia page log select image dropdown box note fair use image upload may lack explanation delete one week upload describe criterion speedy deletion question please ask medium copyright question page thank talk contribs unspecified source image wonju jpg thank upload image wonju jpg notice file description page currently specify create content copyright status unclear create thich take together restatement website term use content usually sufficient information however copyright holder different website publisher copyright also acknowledge well add source please add proper copyright license tag file one already create take picture audio video tag use release gfdl believe medium meet criterion wikipedia fair use tag one tag list wikipedia image copyright tag fair use see wikipedia image copyright tag full list copyright tag use upload file consider check specify source tag find list file upload follow unsourced untagged image may delete one week tag describe criterion speedy deletion image copyright non free license per wikipedia fair use image delete hour question please ask medium copyright question page thank talk contribs\n"
     ]
    }
   ],
   "source": [
    "print(train['comment_text'].iloc[10])\n",
    "print('\\n************************* after cleaning text *************************\\n')\n",
    "sample_test = clean_text(train['comment_text'].iloc[10])\n",
    "print(sample_test)"
   ]
  },
  {
   "cell_type": "code",
   "execution_count": 17,
   "id": "28c68308",
   "metadata": {},
   "outputs": [],
   "source": [
    "def return_tweets(df):\n",
    "    texts = [str(i) for i in df['comment_text'].tolist()]\n",
    "    return texts"
   ]
  },
  {
   "cell_type": "code",
   "execution_count": 18,
   "id": "c0964b72",
   "metadata": {},
   "outputs": [],
   "source": [
    "train_texts = return_tweets(train)\n",
    "# test_texts = return_tweets(test)"
   ]
  },
  {
   "cell_type": "code",
   "execution_count": 19,
   "id": "f5c8cd19",
   "metadata": {},
   "outputs": [],
   "source": [
    "train_texts = list(map(clean_text, train_texts))"
   ]
  },
  {
   "cell_type": "code",
   "execution_count": 20,
   "id": "e61dc003",
   "metadata": {},
   "outputs": [
    {
     "name": "stdout",
     "output_type": "stream",
     "text": [
      "average length of comment: 172.663\n"
     ]
    },
    {
     "data": {
      "image/png": "[encoded data removed]",
      "text/plain": [
       "<Figure size 432x288 with 1 Axes>"
      ]
     },
     "metadata": {
      "needs_background": "light"
     },
     "output_type": "display_data"
    }
   ],
   "source": [
    "x = [len(train_texts[i]) for i in range(len(train_texts))]\n",
    "\n",
    "print('average length of comment: {:.3f}'.format(sum(x)/len(x)))\n",
    "bins = [1, 200, 400, 600, 800, 1000, 1200]\n",
    "plt.hist(x, bins=bins)\n",
    "plt.xlabel('Length of comments')\n",
    "plt.ylabel('Number of comments')       \n",
    "plt.axis([0, 1200, 0, 90000])\n",
    "plt.grid(True)\n",
    "plt.show()"
   ]
  },
  {
   "cell_type": "markdown",
   "id": "e76db0ca",
   "metadata": {},
   "source": [
    "## Tokenizing"
   ]
  },
  {
   "cell_type": "code",
   "execution_count": 21,
   "id": "10f2b241",
   "metadata": {},
   "outputs": [],
   "source": [
    "from tensorflow.keras.preprocessing.text import Tokenizer\n",
    "\n",
    "tok = Tokenizer(num_words=100000)\n",
    "# tok.fit_on_texts(train_texts + test_texts)\n",
    "tok.fit_on_texts(train_texts)"
   ]
  },
  {
   "cell_type": "markdown",
   "id": "65fc67ca",
   "metadata": {},
   "source": [
    "## fastText Embedding"
   ]
  },
  {
   "cell_type": "code",
   "execution_count": 22,
   "id": "e05b1587",
   "metadata": {},
   "outputs": [],
   "source": [
    "import codecs\n",
    "\n",
    "embeddings_index = {}\n",
    "f = codecs.open('wiki.simple.vec', encoding='utf-8')\n",
    "for line in f:\n",
    "    values = line.rstrip().rsplit(' ')\n",
    "    word = values[0]\n",
    "    coefs = np.asarray(values[1:], dtype='float32')\n",
    "    embeddings_index[word] = coefs\n",
    "f.close()"
   ]
  },
  {
   "cell_type": "code",
   "execution_count": 23,
   "id": "ea844bb1",
   "metadata": {},
   "outputs": [],
   "source": [
    "words_not_found = []\n",
    "nb_words = min(100000, len(tok.word_index))\n",
    "embedding_matrix = np.zeros((nb_words, embed_dim))\n",
    "\n",
    "for word, i in tok.word_index.items():\n",
    "    if i >= nb_words:\n",
    "        continue\n",
    "    embedding_vector = embeddings_index.get(word)\n",
    "    if (embedding_vector is not None) and len(embedding_vector) > 0:\n",
    "        # words not found in embedding index will be all-zeros.\n",
    "        embedding_matrix[i] = embedding_vector\n",
    "    else:\n",
    "        words_not_found.append(word)"
   ]
  },
  {
   "cell_type": "markdown",
   "id": "0bc141fb",
   "metadata": {},
   "source": [
    "## sequence padding"
   ]
  },
  {
   "cell_type": "code",
   "execution_count": 24,
   "id": "b088b2fe",
   "metadata": {},
   "outputs": [],
   "source": [
    "from tensorflow.keras.preprocessing.sequence import pad_sequences\n",
    "from sklearn.model_selection import train_test_split\n",
    "\n",
    "x_train = tok.texts_to_sequences(train_texts)\n",
    "# x_test = tok.texts_to_sequences(test_texts)\n",
    "\n",
    "training_padded = pad_sequences(\n",
    "                    x_train,\n",
    "                    maxlen=max_seq_len, \n",
    "                    truncating='post', \n",
    "                    padding='post')\n",
    "\n",
    "# # test_texts\n",
    "# test_padded = pad_sequences(\n",
    "#                 x_test,\n",
    "#                 maxlen=max_seq_len, \n",
    "#                 truncating='post', \n",
    "#                 padding='post')"
   ]
  },
  {
   "cell_type": "markdown",
   "id": "6f3c3d83",
   "metadata": {},
   "source": [
    "## split dataset to train+val+test"
   ]
  },
  {
   "cell_type": "code",
   "execution_count": 25,
   "id": "4d7fa565",
   "metadata": {},
   "outputs": [],
   "source": [
    "y_train = np.asarray(label.values).astype('float32')"
   ]
  },
  {
   "cell_type": "code",
   "execution_count": 26,
   "id": "777a2c94",
   "metadata": {},
   "outputs": [],
   "source": [
    "tr_X, test_X, tr_y, test_y = train_test_split(training_padded, y_train, train_size=0.80, random_state=42)\n",
    "train_X, val_X, train_y, val_y = train_test_split(tr_X, tr_y, train_size=0.90, random_state=42)"
   ]
  },
  {
   "cell_type": "code",
   "execution_count": 27,
   "id": "3cd7a340",
   "metadata": {},
   "outputs": [
    {
     "name": "stdout",
     "output_type": "stream",
     "text": [
      "(114890, 168)\n",
      "(114890, 6)\n",
      "(12766, 168)\n",
      "(12766, 6)\n"
     ]
    }
   ],
   "source": [
    "print(train_X.shape)\n",
    "print(train_y.shape)\n",
    "print(val_X.shape)\n",
    "print(val_y.shape)"
   ]
  },
  {
   "cell_type": "markdown",
   "id": "a87aa2c1",
   "metadata": {},
   "source": [
    "## LSTM MODEL"
   ]
  },
  {
   "cell_type": "code",
   "execution_count": 28,
   "id": "b4181aeb",
   "metadata": {},
   "outputs": [],
   "source": [
    "from keras.callbacks import ModelCheckpoint\n",
    "from keras.callbacks import ReduceLROnPlateau"
   ]
  },
  {
   "cell_type": "code",
   "execution_count": 29,
   "id": "7b1275ed",
   "metadata": {},
   "outputs": [],
   "source": [
    "tf.keras.backend.clear_session()"
   ]
  },
  {
   "cell_type": "code",
   "execution_count": 30,
   "id": "5950a866",
   "metadata": {},
   "outputs": [
    {
     "name": "stderr",
     "output_type": "stream",
     "text": [
      "2022-07-17 08:42:07.240928: I tensorflow/core/platform/cpu_feature_guard.cc:151] This TensorFlow binary is optimized with oneAPI Deep Neural Network Library (oneDNN) to use the following CPU instructions in performance-critical operations:  AVX2 FMA\n",
      "To enable them in other operations, rebuild TensorFlow with the appropriate compiler flags.\n",
      "2022-07-17 08:42:08.846376: I tensorflow/core/common_runtime/gpu/gpu_device.cc:1525] Created device /job:localhost/replica:0/task:0/device:GPU:0 with 38238 MB memory:  -> device: 0, name: NVIDIA A100-SXM4-40GB, pci bus id: 0000:01:00.0, compute capability: 8.0\n"
     ]
    }
   ],
   "source": [
    "model_lstm = models.Sequential()\n",
    "model_lstm.add(layers.Embedding(nb_words, embed_dim, weights=[embedding_matrix], input_length=max_seq_len))\n",
    "model_lstm.add(layers.LSTM(64))\n",
    "model_lstm.add(layers.Dense(6, activation='sigmoid'))"
   ]
  },
  {
   "cell_type": "code",
   "execution_count": 31,
   "id": "2034d2bd",
   "metadata": {},
   "outputs": [
    {
     "name": "stdout",
     "output_type": "stream",
     "text": [
      "Model: \"sequential\"\n",
      "_________________________________________________________________\n",
      " Layer (type)                Output Shape              Param #   \n",
      "=================================================================\n",
      " embedding (Embedding)       (None, 168, 300)          30000000  \n",
      "                                                                 \n",
      " lstm (LSTM)                 (None, 64)                93440     \n",
      "                                                                 \n",
      " dense (Dense)               (None, 6)                 390       \n",
      "                                                                 \n",
      "=================================================================\n",
      "Total params: 30,093,830\n",
      "Trainable params: 30,093,830\n",
      "Non-trainable params: 0\n",
      "_________________________________________________________________\n"
     ]
    }
   ],
   "source": [
    "model_lstm.summary()"
   ]
  },
  {
   "cell_type": "code",
   "execution_count": 32,
   "id": "69005881",
   "metadata": {},
   "outputs": [
    {
     "name": "stdout",
     "output_type": "stream",
     "text": [
      "Epoch 1/10\n"
     ]
    },
    {
     "name": "stderr",
     "output_type": "stream",
     "text": [
      "2022-07-17 08:42:11.894436: I tensorflow/stream_executor/cuda/cuda_dnn.cc:368] Loaded cuDNN version 8200\n",
      "2022-07-17 08:42:12.574999: I tensorflow/stream_executor/cuda/cuda_blas.cc:1786] TensorFloat-32 will be used for the matrix multiplication. This will only be logged once.\n"
     ]
    },
    {
     "name": "stdout",
     "output_type": "stream",
     "text": [
      "449/449 [==============================] - 9s 13ms/step - loss: 0.1548 - auc: 0.7294 - val_loss: 0.1450 - val_auc: 0.7522 - lr: 0.0010\n",
      "Epoch 2/10\n",
      "449/449 [==============================] - 5s 11ms/step - loss: 0.1395 - auc: 0.7545 - val_loss: 0.1443 - val_auc: 0.7552 - lr: 0.0010\n",
      "Epoch 3/10\n",
      "449/449 [==============================] - 5s 11ms/step - loss: 0.1389 - auc: 0.7563 - val_loss: 0.1441 - val_auc: 0.7554 - lr: 0.0010\n",
      "Epoch 4/10\n",
      "449/449 [==============================] - 5s 11ms/step - loss: 0.1361 - auc: 0.7781 - val_loss: 0.1191 - val_auc: 0.9014 - lr: 0.0010\n",
      "Epoch 5/10\n",
      "449/449 [==============================] - 5s 11ms/step - loss: 0.0798 - auc: 0.9496 - val_loss: 0.0689 - val_auc: 0.9676 - lr: 0.0010\n",
      "Epoch 6/10\n",
      "449/449 [==============================] - 5s 11ms/step - loss: 0.0591 - auc: 0.9746 - val_loss: 0.0583 - val_auc: 0.9763 - lr: 0.0010\n",
      "Epoch 7/10\n",
      "449/449 [==============================] - 5s 11ms/step - loss: 0.0493 - auc: 0.9803 - val_loss: 0.0554 - val_auc: 0.9734 - lr: 0.0010\n",
      "Epoch 8/10\n",
      "449/449 [==============================] - 5s 11ms/step - loss: 0.0415 - auc: 0.9852 - val_loss: 0.0553 - val_auc: 0.9710 - lr: 0.0010\n",
      "Epoch 9/10\n",
      "449/449 [==============================] - 5s 11ms/step - loss: 0.0375 - auc: 0.9876 - val_loss: 0.0572 - val_auc: 0.9643 - lr: 0.0010\n",
      "Epoch 10/10\n",
      "449/449 [==============================] - 5s 11ms/step - loss: 0.0347 - auc: 0.9893 - val_loss: 0.0596 - val_auc: 0.9616 - lr: 0.0010\n"
     ]
    }
   ],
   "source": [
    "model_lstm.compile(\n",
    "            loss='binary_crossentropy',\n",
    "            optimizer='adam',\n",
    "            metrics=['AUC'])\n",
    "\n",
    "mcp_save = ModelCheckpoint('best_model_lstm.hdf5', save_best_only=True, monitor='val_loss', mode='min')\n",
    "reduce_lr_loss = ReduceLROnPlateau(monitor='val_loss', factor=0.1, patience=7, verbose=1, min_delta=1e-4, mode='min')\n",
    "\n",
    "history = model_lstm.fit(\n",
    "            train_X,\n",
    "            train_y,\n",
    "            epochs=10,\n",
    "            batch_size=batch_size, \n",
    "            validation_data=(val_X, val_y), \n",
    "            callbacks=[mcp_save, reduce_lr_loss])\n",
    "\n",
    "# load and evaluate the best model version\n",
    "model_lstm = models.load_model('best_model_lstm.hdf5')"
   ]
  },
  {
   "cell_type": "code",
   "execution_count": 33,
   "id": "e945fda1",
   "metadata": {},
   "outputs": [
    {
     "data": {
      "image/png": "[encoded data removed]",
      "text/plain": [
       "<Figure size 432x288 with 1 Axes>"
      ]
     },
     "metadata": {
      "needs_background": "light"
     },
     "output_type": "display_data"
    }
   ],
   "source": [
    "acc = history.history['auc']\n",
    "val_acc = history.history['val_auc']\n",
    "loss = history.history['loss']\n",
    "val_loss = history.history['val_loss']\n",
    "\n",
    "epochs = range(1, len(acc) + 1)\n",
    "\n",
    "plt.plot(epochs, acc, 'bo', label='Training auc')\n",
    "plt.plot(epochs, val_acc, 'b', label='Validation auc')\n",
    "plt.title('Training and validation accuracy')\n",
    "plt.xlabel('Epochs')\n",
    "plt.ylabel('roc_auc')\n",
    "plt.legend()\n",
    "\n",
    "plt.show()"
   ]
  },
  {
   "cell_type": "code",
   "execution_count": 34,
   "id": "a101d9b0",
   "metadata": {},
   "outputs": [
    {
     "data": {
      "text/plain": [
       "array([[5.7770051e-03, 3.0825649e-05, 8.2756049e-04, 2.6191873e-04,\n",
       "        1.0481267e-03, 5.1135535e-04],\n",
       "       [2.3918129e-03, 1.6025075e-05, 4.1539138e-04, 1.8524552e-04,\n",
       "        5.1964627e-04, 3.1572665e-04],\n",
       "       [5.5445032e-03, 2.9842531e-05, 8.0146478e-04, 2.5701380e-04,\n",
       "        1.0125185e-03, 4.9967505e-04],\n",
       "       ...,\n",
       "       [3.0287751e-03, 1.8868292e-05, 4.9945340e-04, 1.9975180e-04,\n",
       "        6.1994971e-04, 3.5807342e-04],\n",
       "       [8.8796544e-01, 1.6646445e-02, 3.6729038e-01, 2.1431845e-02,\n",
       "        4.2276850e-01, 6.3560136e-02],\n",
       "       [2.8247328e-03, 1.7963190e-05, 4.7291504e-04, 1.9506573e-04,\n",
       "        5.8792561e-04, 3.4477102e-04]], dtype=float32)"
      ]
     },
     "execution_count": 34,
     "metadata": {},
     "output_type": "execute_result"
    }
   ],
   "source": [
    "y_pred = model_lstm.predict(test_X)\n",
    "y_pred"
   ]
  },
  {
   "cell_type": "code",
   "execution_count": 35,
   "id": "edf99d70",
   "metadata": {},
   "outputs": [
    {
     "data": {
      "text/plain": [
       "array([[0., 0., 0., 0., 0., 0.],\n",
       "       [0., 0., 0., 0., 0., 0.],\n",
       "       [0., 0., 0., 0., 0., 0.],\n",
       "       ...,\n",
       "       [0., 0., 0., 0., 0., 0.],\n",
       "       [1., 0., 0., 0., 0., 0.],\n",
       "       [0., 0., 0., 0., 0., 0.]])"
      ]
     },
     "execution_count": 35,
     "metadata": {},
     "output_type": "execute_result"
    }
   ],
   "source": [
    "y_pred_fixed = (y_pred >= 0.5)\n",
    "y_pred_fixed = np.multiply(y_pred_fixed, 1.0)\n",
    "y_pred_fixed"
   ]
  },
  {
   "cell_type": "code",
   "execution_count": 36,
   "id": "cc5c7fea",
   "metadata": {},
   "outputs": [
    {
     "name": "stdout",
     "output_type": "stream",
     "text": [
      "               precision    recall  f1-score   support\n",
      "\n",
      "        toxic       0.78      0.75      0.76      3056\n",
      " severe_toxic       0.75      0.05      0.09       321\n",
      "      obscene       0.89      0.66      0.76      1715\n",
      "       threat       1.00      0.00      0.00        74\n",
      "       insult       0.77      0.59      0.67      1614\n",
      "identity_hate       1.00      0.00      0.00       294\n",
      "\n",
      "    micro avg       0.80      0.62      0.70      7074\n",
      "    macro avg       0.86      0.34      0.38      7074\n",
      " weighted avg       0.82      0.62      0.67      7074\n",
      "  samples avg       0.98      0.96      0.94      7074\n",
      "\n"
     ]
    }
   ],
   "source": [
    "from sklearn.metrics import classification_report\n",
    "\n",
    "print(classification_report(test_y, y_pred_fixed, target_names=label_names, zero_division=1))"
   ]
  },
  {
   "cell_type": "markdown",
   "id": "39bc081f",
   "metadata": {},
   "source": [
    "## CNN-LSTM MODEL"
   ]
  },
  {
   "cell_type": "code",
   "execution_count": 37,
   "id": "650c83cd",
   "metadata": {},
   "outputs": [],
   "source": [
    "tf.keras.backend.clear_session()"
   ]
  },
  {
   "cell_type": "code",
   "execution_count": 38,
   "id": "a220f8fa",
   "metadata": {},
   "outputs": [],
   "source": [
    "model_cnn_lstm = models.Sequential()\n",
    "model_cnn_lstm.add(layers.Embedding(nb_words, embed_dim, weights=[embedding_matrix], input_length=max_seq_len))\n",
    "model_cnn_lstm.add(layers.Conv1D(filters=16, kernel_size=3))\n",
    "model_cnn_lstm.add(layers.MaxPooling1D())\n",
    "model_cnn_lstm.add(layers.LSTM(64))\n",
    "model_cnn_lstm.add(layers.Dense(6, activation='sigmoid'))"
   ]
  },
  {
   "cell_type": "code",
   "execution_count": 39,
   "id": "2c4d83c8",
   "metadata": {},
   "outputs": [
    {
     "name": "stdout",
     "output_type": "stream",
     "text": [
      "Model: \"sequential\"\n",
      "_________________________________________________________________\n",
      " Layer (type)                Output Shape              Param #   \n",
      "=================================================================\n",
      " embedding (Embedding)       (None, 168, 300)          30000000  \n",
      "                                                                 \n",
      " conv1d (Conv1D)             (None, 166, 16)           14416     \n",
      "                                                                 \n",
      " max_pooling1d (MaxPooling1D  (None, 83, 16)           0         \n",
      " )                                                               \n",
      "                                                                 \n",
      " lstm (LSTM)                 (None, 64)                20736     \n",
      "                                                                 \n",
      " dense (Dense)               (None, 6)                 390       \n",
      "                                                                 \n",
      "=================================================================\n",
      "Total params: 30,035,542\n",
      "Trainable params: 30,035,542\n",
      "Non-trainable params: 0\n",
      "_________________________________________________________________\n"
     ]
    }
   ],
   "source": [
    "model_cnn_lstm.summary()"
   ]
  },
  {
   "cell_type": "code",
   "execution_count": 40,
   "id": "090ec709",
   "metadata": {},
   "outputs": [
    {
     "name": "stdout",
     "output_type": "stream",
     "text": [
      "Epoch 1/10\n"
     ]
    },
    {
     "name": "stderr",
     "output_type": "stream",
     "text": [
      "2022-07-17 08:43:10.131095: I tensorflow/core/platform/default/subprocess.cc:304] Start cannot spawn child process: No such file or directory\n",
      "2022-07-17 08:43:10.131844: I tensorflow/core/platform/default/subprocess.cc:304] Start cannot spawn child process: No such file or directory\n",
      "2022-07-17 08:43:10.131858: W tensorflow/stream_executor/gpu/asm_compiler.cc:80] Couldn't get ptxas version string: INTERNAL: Couldn't invoke ptxas --version\n",
      "2022-07-17 08:43:10.132333: I tensorflow/core/platform/default/subprocess.cc:304] Start cannot spawn child process: No such file or directory\n",
      "2022-07-17 08:43:10.132383: W tensorflow/stream_executor/gpu/redzone_allocator.cc:314] INTERNAL: Failed to launch ptxas\n",
      "Relying on driver to perform ptx compilation. \n",
      "Modify $PATH to customize ptxas location.\n",
      "This message will be only logged once.\n"
     ]
    },
    {
     "name": "stdout",
     "output_type": "stream",
     "text": [
      "449/449 [==============================] - 7s 10ms/step - loss: 0.1549 - auc: 0.7292 - val_loss: 0.1449 - val_auc: 0.7520 - lr: 0.0010\n",
      "Epoch 2/10\n",
      "449/449 [==============================] - 4s 9ms/step - loss: 0.1396 - auc: 0.7537 - val_loss: 0.1446 - val_auc: 0.7542 - lr: 0.0010\n",
      "Epoch 3/10\n",
      "449/449 [==============================] - 4s 9ms/step - loss: 0.1395 - auc: 0.7546 - val_loss: 0.1446 - val_auc: 0.7539 - lr: 0.0010\n",
      "Epoch 4/10\n",
      "449/449 [==============================] - 4s 9ms/step - loss: 0.1390 - auc: 0.7554 - val_loss: 0.1443 - val_auc: 0.7554 - lr: 0.0010\n",
      "Epoch 5/10\n",
      "449/449 [==============================] - 4s 9ms/step - loss: 0.1300 - auc: 0.8049 - val_loss: 0.0827 - val_auc: 0.9492 - lr: 0.0010\n",
      "Epoch 6/10\n",
      "449/449 [==============================] - 4s 9ms/step - loss: 0.0629 - auc: 0.9669 - val_loss: 0.0562 - val_auc: 0.9769 - lr: 0.0010\n",
      "Epoch 7/10\n",
      "449/449 [==============================] - 4s 9ms/step - loss: 0.0468 - auc: 0.9820 - val_loss: 0.0538 - val_auc: 0.9736 - lr: 0.0010\n",
      "Epoch 8/10\n",
      "449/449 [==============================] - 4s 9ms/step - loss: 0.0401 - auc: 0.9859 - val_loss: 0.0546 - val_auc: 0.9710 - lr: 0.0010\n",
      "Epoch 9/10\n",
      "449/449 [==============================] - 4s 9ms/step - loss: 0.0357 - auc: 0.9887 - val_loss: 0.0574 - val_auc: 0.9615 - lr: 0.0010\n",
      "Epoch 10/10\n",
      "449/449 [==============================] - 4s 9ms/step - loss: 0.0329 - auc: 0.9905 - val_loss: 0.0593 - val_auc: 0.9638 - lr: 0.0010\n"
     ]
    }
   ],
   "source": [
    "model_cnn_lstm.compile(\n",
    "            loss='binary_crossentropy',\n",
    "            optimizer='adam',\n",
    "            metrics=['AUC'])\n",
    "\n",
    "mcp_save = ModelCheckpoint('best_model_cnn_lstm.hdf5', save_best_only=True, monitor='val_loss', mode='min')\n",
    "reduce_lr_loss = ReduceLROnPlateau(monitor='val_loss', factor=0.1, patience=7, verbose=1, min_delta=1e-4, mode='min')\n",
    "\n",
    "history = model_cnn_lstm.fit(\n",
    "            train_X,\n",
    "            train_y,\n",
    "            epochs=10,\n",
    "            batch_size=batch_size, \n",
    "            validation_data=(val_X, val_y), \n",
    "            callbacks=[mcp_save, reduce_lr_loss])\n",
    "\n",
    "# load and evaluate the best model version\n",
    "model_cnn_lstm = models.load_model('best_model_cnn_lstm.hdf5')"
   ]
  },
  {
   "cell_type": "code",
   "execution_count": 41,
   "id": "b7090287",
   "metadata": {},
   "outputs": [
    {
     "data": {
      "image/png": "[encoded data removed]",
      "text/plain": [
       "<Figure size 432x288 with 1 Axes>"
      ]
     },
     "metadata": {
      "needs_background": "light"
     },
     "output_type": "display_data"
    }
   ],
   "source": [
    "acc = history.history['auc']\n",
    "val_acc = history.history['val_auc']\n",
    "loss = history.history['loss']\n",
    "val_loss = history.history['val_loss']\n",
    "\n",
    "epochs = range(1, len(acc) + 1)\n",
    "\n",
    "plt.plot(epochs, acc, 'bo', label='Training auc')\n",
    "plt.plot(epochs, val_acc, 'b', label='Validation auc')\n",
    "plt.title('Training and validation accuracy')\n",
    "plt.xlabel('Epochs')\n",
    "plt.ylabel('roc_auc')\n",
    "plt.legend()\n",
    "\n",
    "plt.show()"
   ]
  },
  {
   "cell_type": "code",
   "execution_count": 42,
   "id": "ec0a5410",
   "metadata": {},
   "outputs": [
    {
     "data": {
      "text/plain": [
       "array([[6.0964260e-02, 3.3502129e-04, 8.6313402e-03, 1.5087432e-03,\n",
       "        1.2083280e-02, 2.7409953e-03],\n",
       "       [2.2656627e-03, 7.2503091e-05, 7.1361783e-04, 3.1721406e-04,\n",
       "        5.1792496e-04, 3.5894633e-04],\n",
       "       [8.8913552e-03, 1.1499399e-04, 1.7118711e-03, 4.6340749e-04,\n",
       "        1.7274858e-03, 6.8326300e-04],\n",
       "       ...,\n",
       "       [2.0598569e-03, 7.5858159e-05, 6.8799505e-04, 3.4679077e-04,\n",
       "        4.8841059e-04, 3.7211442e-04],\n",
       "       [8.8727957e-01, 2.1176929e-02, 5.4852110e-01, 2.0659685e-02,\n",
       "        4.6947137e-01, 6.1695982e-02],\n",
       "       [2.4351568e-03, 7.5138712e-05, 7.2990032e-04, 3.2744190e-04,\n",
       "        5.4790446e-04, 3.7377427e-04]], dtype=float32)"
      ]
     },
     "execution_count": 42,
     "metadata": {},
     "output_type": "execute_result"
    }
   ],
   "source": [
    "y_pred = model_cnn_lstm.predict(test_X)\n",
    "y_pred"
   ]
  },
  {
   "cell_type": "code",
   "execution_count": 43,
   "id": "76c9eb18",
   "metadata": {},
   "outputs": [
    {
     "data": {
      "text/plain": [
       "array([[0., 0., 0., 0., 0., 0.],\n",
       "       [0., 0., 0., 0., 0., 0.],\n",
       "       [0., 0., 0., 0., 0., 0.],\n",
       "       ...,\n",
       "       [0., 0., 0., 0., 0., 0.],\n",
       "       [1., 0., 1., 0., 0., 0.],\n",
       "       [0., 0., 0., 0., 0., 0.]])"
      ]
     },
     "execution_count": 43,
     "metadata": {},
     "output_type": "execute_result"
    }
   ],
   "source": [
    "y_pred_fixed = (y_pred >= 0.5)\n",
    "y_pred_fixed = np.multiply(y_pred_fixed, 1.0)\n",
    "y_pred_fixed"
   ]
  },
  {
   "cell_type": "code",
   "execution_count": 44,
   "id": "4892ca94",
   "metadata": {},
   "outputs": [
    {
     "name": "stdout",
     "output_type": "stream",
     "text": [
      "               precision    recall  f1-score   support\n",
      "\n",
      "        toxic       0.78      0.78      0.78      3056\n",
      " severe_toxic       0.68      0.04      0.08       321\n",
      "      obscene       0.78      0.82      0.80      1715\n",
      "       threat       1.00      0.00      0.00        74\n",
      "       insult       0.69      0.71      0.70      1614\n",
      "identity_hate       1.00      0.00      0.00       294\n",
      "\n",
      "    micro avg       0.75      0.70      0.73      7074\n",
      "    macro avg       0.82      0.39      0.39      7074\n",
      " weighted avg       0.76      0.70      0.69      7074\n",
      "  samples avg       0.97      0.96      0.94      7074\n",
      "\n"
     ]
    }
   ],
   "source": [
    "from sklearn.metrics import classification_report\n",
    "\n",
    "print(classification_report(test_y, y_pred_fixed, target_names=label_names, zero_division=1))"
   ]
  },
  {
   "cell_type": "markdown",
   "id": "f81a8ead",
   "metadata": {},
   "source": [
    "## Bi-Directional LSTM MODEL"
   ]
  },
  {
   "cell_type": "code",
   "execution_count": 45,
   "id": "c312061a",
   "metadata": {},
   "outputs": [],
   "source": [
    "tf.keras.backend.clear_session()"
   ]
  },
  {
   "cell_type": "code",
   "execution_count": 46,
   "id": "34a53efc",
   "metadata": {},
   "outputs": [],
   "source": [
    "model_bi_lstm = models.Sequential()\n",
    "model_bi_lstm.add(layers.Embedding(nb_words, embed_dim, weights=[embedding_matrix], input_length=max_seq_len))\n",
    "model_bi_lstm.add(layers.Bidirectional(layers.LSTM(64, return_sequences=True)))\n",
    "model_bi_lstm.add(layers.Bidirectional(layers.LSTM(64)))\n",
    "model_bi_lstm.add(layers.Dense(6, activation='sigmoid'))"
   ]
  },
  {
   "cell_type": "code",
   "execution_count": 47,
   "id": "2e80feee",
   "metadata": {},
   "outputs": [
    {
     "name": "stdout",
     "output_type": "stream",
     "text": [
      "Model: \"sequential\"\n",
      "_________________________________________________________________\n",
      " Layer (type)                Output Shape              Param #   \n",
      "=================================================================\n",
      " embedding (Embedding)       (None, 168, 300)          30000000  \n",
      "                                                                 \n",
      " bidirectional (Bidirectiona  (None, 168, 128)         186880    \n",
      " l)                                                              \n",
      "                                                                 \n",
      " bidirectional_1 (Bidirectio  (None, 128)              98816     \n",
      " nal)                                                            \n",
      "                                                                 \n",
      " dense (Dense)               (None, 6)                 774       \n",
      "                                                                 \n",
      "=================================================================\n",
      "Total params: 30,286,470\n",
      "Trainable params: 30,286,470\n",
      "Non-trainable params: 0\n",
      "_________________________________________________________________\n"
     ]
    }
   ],
   "source": [
    "model_bi_lstm.summary()"
   ]
  },
  {
   "cell_type": "code",
   "execution_count": 48,
   "id": "bce36c98",
   "metadata": {},
   "outputs": [
    {
     "name": "stdout",
     "output_type": "stream",
     "text": [
      "Epoch 1/10\n",
      "449/449 [==============================] - 19s 32ms/step - loss: 0.0863 - auc: 0.9392 - val_loss: 0.0522 - val_auc: 0.9765 - lr: 0.0010\n",
      "Epoch 2/10\n",
      "449/449 [==============================] - 13s 29ms/step - loss: 0.0469 - auc: 0.9816 - val_loss: 0.0498 - val_auc: 0.9777 - lr: 0.0010\n",
      "Epoch 3/10\n",
      "449/449 [==============================] - 13s 29ms/step - loss: 0.0398 - auc: 0.9871 - val_loss: 0.0500 - val_auc: 0.9789 - lr: 0.0010\n",
      "Epoch 4/10\n",
      "449/449 [==============================] - 13s 29ms/step - loss: 0.0338 - auc: 0.9907 - val_loss: 0.0520 - val_auc: 0.9722 - lr: 0.0010\n",
      "Epoch 5/10\n",
      "449/449 [==============================] - 13s 29ms/step - loss: 0.0291 - auc: 0.9929 - val_loss: 0.0561 - val_auc: 0.9668 - lr: 0.0010\n",
      "Epoch 6/10\n",
      "449/449 [==============================] - 13s 29ms/step - loss: 0.0250 - auc: 0.9945 - val_loss: 0.0610 - val_auc: 0.9593 - lr: 0.0010\n",
      "Epoch 7/10\n",
      "449/449 [==============================] - 13s 29ms/step - loss: 0.0214 - auc: 0.9955 - val_loss: 0.0649 - val_auc: 0.9504 - lr: 0.0010\n",
      "Epoch 8/10\n",
      "449/449 [==============================] - 13s 29ms/step - loss: 0.0179 - auc: 0.9966 - val_loss: 0.0689 - val_auc: 0.9496 - lr: 0.0010\n",
      "Epoch 9/10\n",
      "449/449 [==============================] - ETA: 0s - loss: 0.0149 - auc: 0.9973\n",
      "Epoch 9: ReduceLROnPlateau reducing learning rate to 0.00010000000474974513.\n",
      "449/449 [==============================] - 13s 29ms/step - loss: 0.0149 - auc: 0.9973 - val_loss: 0.0791 - val_auc: 0.9303 - lr: 0.0010\n",
      "Epoch 10/10\n",
      "449/449 [==============================] - 13s 29ms/step - loss: 0.0109 - auc: 0.9982 - val_loss: 0.0808 - val_auc: 0.9335 - lr: 1.0000e-04\n"
     ]
    }
   ],
   "source": [
    "model_bi_lstm.compile(\n",
    "            loss='binary_crossentropy',\n",
    "            optimizer='adam',\n",
    "            metrics=['AUC'])\n",
    "\n",
    "mcp_save = ModelCheckpoint('best_model_bi_lstm.hdf5', save_best_only=True, monitor='val_loss', mode='min')\n",
    "reduce_lr_loss = ReduceLROnPlateau(monitor='val_loss', factor=0.1, patience=7, verbose=1, min_delta=1e-4, mode='min')\n",
    "\n",
    "history = model_bi_lstm.fit(\n",
    "            train_X,\n",
    "            train_y,\n",
    "            epochs=10,\n",
    "            batch_size=batch_size, \n",
    "            validation_data=(val_X, val_y), \n",
    "            callbacks=[mcp_save, reduce_lr_loss])\n",
    "\n",
    "# load and evaluate the best model version\n",
    "model_bi_lstm = models.load_model('best_model_bi_lstm.hdf5')"
   ]
  },
  {
   "cell_type": "code",
   "execution_count": 49,
   "id": "0c76fc2c",
   "metadata": {},
   "outputs": [
    {
     "data": {
      "image/png": "[encoded data removed]",
      "text/plain": [
       "<Figure size 432x288 with 1 Axes>"
      ]
     },
     "metadata": {
      "needs_background": "light"
     },
     "output_type": "display_data"
    }
   ],
   "source": [
    "acc = history.history['auc']\n",
    "val_acc = history.history['val_auc']\n",
    "loss = history.history['loss']\n",
    "val_loss = history.history['val_loss']\n",
    "\n",
    "epochs = range(1, len(acc) + 1)\n",
    "\n",
    "plt.plot(epochs, acc, 'bo', label='Training auc')\n",
    "plt.plot(epochs, val_acc, 'b', label='Validation auc')\n",
    "plt.title('Training and validation accuracy')\n",
    "plt.xlabel('Epochs')\n",
    "plt.ylabel('roc_auc')\n",
    "plt.legend()\n",
    "\n",
    "plt.show()"
   ]
  },
  {
   "cell_type": "code",
   "execution_count": 50,
   "id": "588a785f",
   "metadata": {},
   "outputs": [
    {
     "data": {
      "text/plain": [
       "array([[1.94677766e-02, 2.66059244e-04, 2.72335671e-03, 7.80212111e-04,\n",
       "        2.36176513e-03, 7.19284406e-04],\n",
       "       [1.48225739e-03, 1.14567905e-04, 5.78468200e-04, 3.02582543e-04,\n",
       "        3.78463796e-04, 2.53295671e-04],\n",
       "       [1.24905109e-02, 2.40271722e-04, 1.91009964e-03, 7.06223131e-04,\n",
       "        1.74325984e-03, 5.89036150e-04],\n",
       "       ...,\n",
       "       [1.56081410e-03, 1.09260123e-04, 5.98071958e-04, 3.00675107e-04,\n",
       "        3.78893543e-04, 2.42737777e-04],\n",
       "       [8.89355004e-01, 1.89431477e-02, 3.10521364e-01, 3.14164087e-02,\n",
       "        3.84013861e-01, 6.89834580e-02],\n",
       "       [2.85795890e-03, 1.40433374e-04, 1.02902518e-03, 3.65349610e-04,\n",
       "        6.39220991e-04, 3.18795122e-04]], dtype=float32)"
      ]
     },
     "execution_count": 50,
     "metadata": {},
     "output_type": "execute_result"
    }
   ],
   "source": [
    "y_pred = model_bi_lstm.predict(test_X)\n",
    "y_pred"
   ]
  },
  {
   "cell_type": "code",
   "execution_count": 51,
   "id": "4b5ce057",
   "metadata": {},
   "outputs": [
    {
     "data": {
      "text/plain": [
       "array([[0., 0., 0., 0., 0., 0.],\n",
       "       [0., 0., 0., 0., 0., 0.],\n",
       "       [0., 0., 0., 0., 0., 0.],\n",
       "       ...,\n",
       "       [0., 0., 0., 0., 0., 0.],\n",
       "       [1., 0., 0., 0., 0., 0.],\n",
       "       [0., 0., 0., 0., 0., 0.]])"
      ]
     },
     "execution_count": 51,
     "metadata": {},
     "output_type": "execute_result"
    }
   ],
   "source": [
    "y_pred_fixed = (y_pred >= 0.5)\n",
    "y_pred_fixed = np.multiply(y_pred_fixed, 1.0)\n",
    "y_pred_fixed"
   ]
  },
  {
   "cell_type": "code",
   "execution_count": 52,
   "id": "0c26908e",
   "metadata": {},
   "outputs": [
    {
     "name": "stdout",
     "output_type": "stream",
     "text": [
      "               precision    recall  f1-score   support\n",
      "\n",
      "        toxic       0.83      0.74      0.78      3056\n",
      " severe_toxic       0.67      0.14      0.23       321\n",
      "      obscene       0.84      0.76      0.80      1715\n",
      "       threat       1.00      0.00      0.00        74\n",
      "       insult       0.75      0.60      0.67      1614\n",
      "identity_hate       1.00      0.00      0.00       294\n",
      "\n",
      "    micro avg       0.81      0.65      0.72      7074\n",
      "    macro avg       0.85      0.37      0.41      7074\n",
      " weighted avg       0.82      0.65      0.69      7074\n",
      "  samples avg       0.98      0.96      0.95      7074\n",
      "\n"
     ]
    }
   ],
   "source": [
    "from sklearn.metrics import classification_report\n",
    "\n",
    "print(classification_report(test_y, y_pred_fixed, target_names=label_names, zero_division=1))"
   ]
  },
  {
   "cell_type": "markdown",
   "id": "668c68c5",
   "metadata": {},
   "source": [
    "## Bi-directional GRU"
   ]
  },
  {
   "cell_type": "code",
   "execution_count": 53,
   "id": "bd379a24",
   "metadata": {},
   "outputs": [],
   "source": [
    "tf.keras.backend.clear_session()"
   ]
  },
  {
   "cell_type": "code",
   "execution_count": 54,
   "id": "ec9372cf",
   "metadata": {},
   "outputs": [],
   "source": [
    "model_bi_gru = models.Sequential()\n",
    "model_bi_gru.add(layers.Embedding(nb_words, embed_dim, weights=[embedding_matrix], input_length=max_seq_len))\n",
    "model_bi_gru.add(layers.Bidirectional(layers.GRU(64, return_sequences=True)))\n",
    "model_bi_gru.add(layers.Bidirectional(layers.GRU(64)))\n",
    "model_bi_gru.add(layers.Dense(16, activation='relu'))\n",
    "model_bi_gru.add(layers.Dense(6, activation='sigmoid'))"
   ]
  },
  {
   "cell_type": "code",
   "execution_count": 55,
   "id": "b5271779",
   "metadata": {},
   "outputs": [
    {
     "name": "stdout",
     "output_type": "stream",
     "text": [
      "Model: \"sequential\"\n",
      "_________________________________________________________________\n",
      " Layer (type)                Output Shape              Param #   \n",
      "=================================================================\n",
      " embedding (Embedding)       (None, 168, 300)          30000000  \n",
      "                                                                 \n",
      " bidirectional (Bidirectiona  (None, 168, 128)         140544    \n",
      " l)                                                              \n",
      "                                                                 \n",
      " bidirectional_1 (Bidirectio  (None, 128)              74496     \n",
      " nal)                                                            \n",
      "                                                                 \n",
      " dense (Dense)               (None, 16)                2064      \n",
      "                                                                 \n",
      " dense_1 (Dense)             (None, 6)                 102       \n",
      "                                                                 \n",
      "=================================================================\n",
      "Total params: 30,217,206\n",
      "Trainable params: 30,217,206\n",
      "Non-trainable params: 0\n",
      "_________________________________________________________________\n"
     ]
    }
   ],
   "source": [
    "model_bi_gru.summary()"
   ]
  },
  {
   "cell_type": "code",
   "execution_count": 56,
   "id": "eb36f3cd",
   "metadata": {},
   "outputs": [
    {
     "name": "stdout",
     "output_type": "stream",
     "text": [
      "Epoch 1/10\n",
      "449/449 [==============================] - 21s 34ms/step - loss: 0.0799 - auc: 0.9481 - val_loss: 0.0505 - val_auc: 0.9790 - lr: 0.0010\n",
      "Epoch 2/10\n",
      "449/449 [==============================] - 14s 32ms/step - loss: 0.0439 - auc: 0.9843 - val_loss: 0.0470 - val_auc: 0.9801 - lr: 0.0010\n",
      "Epoch 3/10\n",
      "449/449 [==============================] - 14s 31ms/step - loss: 0.0363 - auc: 0.9894 - val_loss: 0.0486 - val_auc: 0.9786 - lr: 0.0010\n",
      "Epoch 4/10\n",
      "449/449 [==============================] - 14s 31ms/step - loss: 0.0299 - auc: 0.9927 - val_loss: 0.0528 - val_auc: 0.9711 - lr: 0.0010\n",
      "Epoch 5/10\n",
      "449/449 [==============================] - 14s 31ms/step - loss: 0.0243 - auc: 0.9948 - val_loss: 0.0605 - val_auc: 0.9626 - lr: 0.0010\n",
      "Epoch 6/10\n",
      "449/449 [==============================] - 14s 31ms/step - loss: 0.0187 - auc: 0.9967 - val_loss: 0.0693 - val_auc: 0.9452 - lr: 0.0010\n",
      "Epoch 7/10\n",
      "449/449 [==============================] - 14s 31ms/step - loss: 0.0143 - auc: 0.9978 - val_loss: 0.0784 - val_auc: 0.9407 - lr: 0.0010\n",
      "Epoch 8/10\n",
      "449/449 [==============================] - 14s 31ms/step - loss: 0.0110 - auc: 0.9983 - val_loss: 0.0875 - val_auc: 0.9296 - lr: 0.0010\n",
      "Epoch 9/10\n",
      "448/449 [============================>.] - ETA: 0s - loss: 0.0087 - auc: 0.9988\n",
      "Epoch 9: ReduceLROnPlateau reducing learning rate to 0.00010000000474974513.\n",
      "449/449 [==============================] - 14s 31ms/step - loss: 0.0087 - auc: 0.9988 - val_loss: 0.0978 - val_auc: 0.9211 - lr: 0.0010\n",
      "Epoch 10/10\n",
      "449/449 [==============================] - 14s 31ms/step - loss: 0.0058 - auc: 0.9994 - val_loss: 0.1020 - val_auc: 0.9227 - lr: 1.0000e-04\n"
     ]
    }
   ],
   "source": [
    "model_bi_gru.compile(\n",
    "            loss='binary_crossentropy',\n",
    "            optimizer='adam',\n",
    "            metrics=['AUC'])\n",
    "\n",
    "mcp_save = ModelCheckpoint('best_model_bi_gru.hdf5', save_best_only=True, monitor='val_loss', mode='min')\n",
    "reduce_lr_loss = ReduceLROnPlateau(monitor='val_loss', factor=0.1, patience=7, verbose=1, min_delta=1e-4, mode='min')\n",
    "\n",
    "history = model_bi_gru.fit(\n",
    "            train_X,\n",
    "            train_y,\n",
    "            epochs=10,\n",
    "            batch_size=batch_size, \n",
    "            validation_data=(val_X, val_y), \n",
    "            callbacks=[mcp_save, reduce_lr_loss])\n",
    "\n",
    "# load and evaluate the best model version\n",
    "model_bi_gru = models.load_model('best_model_bi_gru.hdf5')"
   ]
  },
  {
   "cell_type": "code",
   "execution_count": 57,
   "id": "20249bf5",
   "metadata": {},
   "outputs": [
    {
     "data": {
      "image/png": "[encoded data removed]",
      "text/plain": [
       "<Figure size 432x288 with 1 Axes>"
      ]
     },
     "metadata": {
      "needs_background": "light"
     },
     "output_type": "display_data"
    }
   ],
   "source": [
    "acc = history.history['auc']\n",
    "val_acc = history.history['val_auc']\n",
    "loss = history.history['loss']\n",
    "val_loss = history.history['val_loss']\n",
    "\n",
    "epochs = range(1, len(acc) + 1)\n",
    "\n",
    "plt.plot(epochs, acc, 'bo', label='Training auc')\n",
    "plt.plot(epochs, val_acc, 'b', label='Validation auc')\n",
    "plt.title('Training and validation accuracy')\n",
    "plt.xlabel('Epochs')\n",
    "plt.ylabel('roc_auc')\n",
    "plt.legend()\n",
    "\n",
    "plt.show()"
   ]
  },
  {
   "cell_type": "code",
   "execution_count": 58,
   "id": "ea9a8206",
   "metadata": {},
   "outputs": [
    {
     "data": {
      "text/plain": [
       "array([[3.0075416e-02, 2.2768351e-04, 3.0534810e-03, 1.4998113e-03,\n",
       "        4.0139346e-03, 6.5588945e-04],\n",
       "       [1.2387997e-03, 3.9728620e-05, 3.6317765e-04, 1.8914034e-04,\n",
       "        2.1042871e-04, 5.0554339e-05],\n",
       "       [1.1244582e-02, 1.3137910e-04, 1.6833384e-03, 7.8989088e-04,\n",
       "        1.5945400e-03, 2.1386756e-04],\n",
       "       ...,\n",
       "       [7.8091648e-04, 3.2228643e-05, 2.5798625e-04, 1.4439005e-04,\n",
       "        1.4373260e-04, 3.2594726e-05],\n",
       "       [8.7992901e-01, 1.1199212e-02, 2.2554454e-01, 1.9669322e-02,\n",
       "        3.9444306e-01, 9.1489796e-03],\n",
       "       [2.3094576e-03, 5.6728895e-05, 5.4761837e-04, 2.4063645e-04,\n",
       "        3.2976925e-04, 6.3422442e-05]], dtype=float32)"
      ]
     },
     "execution_count": 58,
     "metadata": {},
     "output_type": "execute_result"
    }
   ],
   "source": [
    "y_pred = model_bi_gru.predict(test_X)\n",
    "y_pred"
   ]
  },
  {
   "cell_type": "code",
   "execution_count": 59,
   "id": "55e33259",
   "metadata": {},
   "outputs": [
    {
     "data": {
      "text/plain": [
       "array([[0., 0., 0., 0., 0., 0.],\n",
       "       [0., 0., 0., 0., 0., 0.],\n",
       "       [0., 0., 0., 0., 0., 0.],\n",
       "       ...,\n",
       "       [0., 0., 0., 0., 0., 0.],\n",
       "       [1., 0., 0., 0., 0., 0.],\n",
       "       [0., 0., 0., 0., 0., 0.]])"
      ]
     },
     "execution_count": 59,
     "metadata": {},
     "output_type": "execute_result"
    }
   ],
   "source": [
    "y_pred_fixed = (y_pred >= 0.5)\n",
    "y_pred_fixed = np.multiply(y_pred_fixed, 1.0)\n",
    "y_pred_fixed"
   ]
  },
  {
   "cell_type": "code",
   "execution_count": 60,
   "id": "258047b2",
   "metadata": {},
   "outputs": [
    {
     "name": "stdout",
     "output_type": "stream",
     "text": [
      "               precision    recall  f1-score   support\n",
      "\n",
      "        toxic       0.84      0.73      0.78      3056\n",
      " severe_toxic       0.61      0.21      0.31       321\n",
      "      obscene       0.84      0.79      0.82      1715\n",
      "       threat       1.00      0.00      0.00        74\n",
      "       insult       0.74      0.64      0.69      1614\n",
      "identity_hate       0.71      0.14      0.23       294\n",
      "\n",
      "    micro avg       0.81      0.67      0.73      7074\n",
      "    macro avg       0.79      0.42      0.47      7074\n",
      " weighted avg       0.80      0.67      0.72      7074\n",
      "  samples avg       0.98      0.96      0.95      7074\n",
      "\n"
     ]
    }
   ],
   "source": [
    "from sklearn.metrics import classification_report\n",
    "\n",
    "print(classification_report(test_y, y_pred_fixed, target_names=label_names, zero_division=1))"
   ]
  },
  {
   "cell_type": "markdown",
   "id": "d9be1b8f",
   "metadata": {},
   "source": [
    "## CNN with Conv1D layers"
   ]
  },
  {
   "cell_type": "code",
   "execution_count": 61,
   "id": "45788099",
   "metadata": {},
   "outputs": [],
   "source": [
    "tf.keras.backend.clear_session()"
   ]
  },
  {
   "cell_type": "code",
   "execution_count": 62,
   "id": "780331ad",
   "metadata": {},
   "outputs": [],
   "source": [
    "model_cnn = models.Sequential()\n",
    "model_cnn.add(layers.Embedding(nb_words, embed_dim, weights=[embedding_matrix], input_length=max_seq_len))\n",
    "model_cnn.add(layers.Conv1D(filters=32, kernel_size=5))\n",
    "model_cnn.add(layers.MaxPooling1D())\n",
    "model_cnn.add(layers.Conv1D(filters=16, kernel_size=3))\n",
    "model_cnn.add(layers.MaxPooling1D())\n",
    "model_cnn.add(layers.Flatten())\n",
    "model_cnn.add(layers.Dense(6, activation='sigmoid'))"
   ]
  },
  {
   "cell_type": "code",
   "execution_count": 63,
   "id": "1b357c40",
   "metadata": {},
   "outputs": [
    {
     "name": "stdout",
     "output_type": "stream",
     "text": [
      "Model: \"sequential\"\n",
      "_________________________________________________________________\n",
      " Layer (type)                Output Shape              Param #   \n",
      "=================================================================\n",
      " embedding (Embedding)       (None, 168, 300)          30000000  \n",
      "                                                                 \n",
      " conv1d (Conv1D)             (None, 164, 32)           48032     \n",
      "                                                                 \n",
      " max_pooling1d (MaxPooling1D  (None, 82, 32)           0         \n",
      " )                                                               \n",
      "                                                                 \n",
      " conv1d_1 (Conv1D)           (None, 80, 16)            1552      \n",
      "                                                                 \n",
      " max_pooling1d_1 (MaxPooling  (None, 40, 16)           0         \n",
      " 1D)                                                             \n",
      "                                                                 \n",
      " flatten (Flatten)           (None, 640)               0         \n",
      "                                                                 \n",
      " dense (Dense)               (None, 6)                 3846      \n",
      "                                                                 \n",
      "=================================================================\n",
      "Total params: 30,053,430\n",
      "Trainable params: 30,053,430\n",
      "Non-trainable params: 0\n",
      "_________________________________________________________________\n"
     ]
    }
   ],
   "source": [
    "model_cnn.summary()"
   ]
  },
  {
   "cell_type": "code",
   "execution_count": 64,
   "id": "9ab7c7ff",
   "metadata": {},
   "outputs": [
    {
     "name": "stdout",
     "output_type": "stream",
     "text": [
      "Epoch 1/10\n",
      "449/449 [==============================] - 4s 8ms/step - loss: 0.0982 - auc: 0.9178 - val_loss: 0.0625 - val_auc: 0.9679 - lr: 0.0010\n",
      "Epoch 2/10\n",
      "449/449 [==============================] - 3s 7ms/step - loss: 0.0534 - auc: 0.9779 - val_loss: 0.0591 - val_auc: 0.9718 - lr: 0.0010\n",
      "Epoch 3/10\n",
      "449/449 [==============================] - 3s 7ms/step - loss: 0.0424 - auc: 0.9876 - val_loss: 0.0593 - val_auc: 0.9683 - lr: 0.0010\n",
      "Epoch 4/10\n",
      "449/449 [==============================] - 3s 6ms/step - loss: 0.0330 - auc: 0.9926 - val_loss: 0.0645 - val_auc: 0.9573 - lr: 0.0010\n",
      "Epoch 5/10\n",
      "449/449 [==============================] - 3s 6ms/step - loss: 0.0254 - auc: 0.9952 - val_loss: 0.0697 - val_auc: 0.9562 - lr: 0.0010\n",
      "Epoch 6/10\n",
      "449/449 [==============================] - 3s 6ms/step - loss: 0.0191 - auc: 0.9968 - val_loss: 0.0777 - val_auc: 0.9415 - lr: 0.0010\n",
      "Epoch 7/10\n",
      "449/449 [==============================] - 3s 6ms/step - loss: 0.0144 - auc: 0.9973 - val_loss: 0.0897 - val_auc: 0.9273 - lr: 0.0010\n",
      "Epoch 8/10\n",
      "449/449 [==============================] - 3s 7ms/step - loss: 0.0114 - auc: 0.9979 - val_loss: 0.0968 - val_auc: 0.9248 - lr: 0.0010\n",
      "Epoch 9/10\n",
      "445/449 [============================>.] - ETA: 0s - loss: 0.0094 - auc: 0.9981\n",
      "Epoch 9: ReduceLROnPlateau reducing learning rate to 0.00010000000474974513.\n",
      "449/449 [==============================] - 3s 6ms/step - loss: 0.0094 - auc: 0.9981 - val_loss: 0.1064 - val_auc: 0.9146 - lr: 0.0010\n",
      "Epoch 10/10\n",
      "449/449 [==============================] - 3s 6ms/step - loss: 0.0066 - auc: 0.9988 - val_loss: 0.1079 - val_auc: 0.9097 - lr: 1.0000e-04\n"
     ]
    }
   ],
   "source": [
    "model_cnn.compile(\n",
    "            loss='binary_crossentropy',\n",
    "            optimizer='adam',\n",
    "            metrics=['AUC'])\n",
    "\n",
    "mcp_save = ModelCheckpoint('best_model_cnn.hdf5', save_best_only=True, monitor='val_loss', mode='min')\n",
    "reduce_lr_loss = ReduceLROnPlateau(monitor='val_loss', factor=0.1, patience=7, verbose=1, min_delta=1e-4, mode='min')\n",
    "\n",
    "history = model_cnn.fit(\n",
    "            train_X,\n",
    "            train_y,\n",
    "            epochs=10,\n",
    "            batch_size=batch_size, \n",
    "            validation_data=(val_X, val_y), \n",
    "            callbacks=[mcp_save, reduce_lr_loss])\n",
    "\n",
    "# load and evaluate the best model version\n",
    "model_cnn = models.load_model('best_model_cnn.hdf5')"
   ]
  },
  {
   "cell_type": "code",
   "execution_count": 65,
   "id": "94fd1fc1",
   "metadata": {},
   "outputs": [
    {
     "data": {
      "image/png": "[encoded data removed]",
      "text/plain": [
       "<Figure size 432x288 with 1 Axes>"
      ]
     },
     "metadata": {
      "needs_background": "light"
     },
     "output_type": "display_data"
    }
   ],
   "source": [
    "acc = history.history['auc']\n",
    "val_acc = history.history['val_auc']\n",
    "loss = history.history['loss']\n",
    "val_loss = history.history['val_loss']\n",
    "\n",
    "epochs = range(1, len(acc) + 1)\n",
    "\n",
    "plt.plot(epochs, acc, 'bo', label='Training auc')\n",
    "plt.plot(epochs, val_acc, 'b', label='Validation auc')\n",
    "plt.title('Training and validation accuracy')\n",
    "plt.xlabel('Epochs')\n",
    "plt.ylabel('roc_auc')\n",
    "plt.legend()\n",
    "\n",
    "plt.show()"
   ]
  },
  {
   "cell_type": "code",
   "execution_count": 66,
   "id": "e8e7db97",
   "metadata": {},
   "outputs": [
    {
     "data": {
      "text/plain": [
       "array([[3.1002779e-02, 3.4282613e-03, 1.1930143e-02, 7.4088150e-03,\n",
       "        1.7622145e-02, 1.5328729e-02],\n",
       "       [4.2636305e-04, 8.5081992e-05, 3.7416711e-04, 4.3904179e-04,\n",
       "        5.3102279e-04, 2.8991862e-04],\n",
       "       [1.0128438e-01, 7.7142543e-03, 2.9563384e-02, 1.1656334e-02,\n",
       "        3.3563767e-02, 1.1855153e-02],\n",
       "       ...,\n",
       "       [1.7295308e-04, 1.3535896e-04, 1.4704524e-04, 2.4607280e-04,\n",
       "        9.6850033e-04, 2.9478059e-04],\n",
       "       [7.9816282e-01, 5.1338866e-02, 3.6706311e-01, 2.5286010e-02,\n",
       "        2.8634053e-01, 3.7856564e-02],\n",
       "       [2.2695528e-03, 2.3547299e-03, 7.8946501e-03, 3.0709154e-03,\n",
       "        2.5755824e-03, 2.9285094e-03]], dtype=float32)"
      ]
     },
     "execution_count": 66,
     "metadata": {},
     "output_type": "execute_result"
    }
   ],
   "source": [
    "y_pred = model_cnn.predict(test_X)\n",
    "y_pred"
   ]
  },
  {
   "cell_type": "code",
   "execution_count": 67,
   "id": "7c1a4dc1",
   "metadata": {},
   "outputs": [
    {
     "data": {
      "text/plain": [
       "array([[0., 0., 0., 0., 0., 0.],\n",
       "       [0., 0., 0., 0., 0., 0.],\n",
       "       [0., 0., 0., 0., 0., 0.],\n",
       "       ...,\n",
       "       [0., 0., 0., 0., 0., 0.],\n",
       "       [1., 0., 0., 0., 0., 0.],\n",
       "       [0., 0., 0., 0., 0., 0.]])"
      ]
     },
     "execution_count": 67,
     "metadata": {},
     "output_type": "execute_result"
    }
   ],
   "source": [
    "y_pred_fixed = (y_pred >= 0.5)\n",
    "y_pred_fixed = np.multiply(y_pred_fixed, 1.0)\n",
    "y_pred_fixed"
   ]
  },
  {
   "cell_type": "code",
   "execution_count": 68,
   "id": "9c490860",
   "metadata": {},
   "outputs": [
    {
     "name": "stdout",
     "output_type": "stream",
     "text": [
      "               precision    recall  f1-score   support\n",
      "\n",
      "        toxic       0.87      0.67      0.75      3056\n",
      " severe_toxic       0.48      0.28      0.36       321\n",
      "      obscene       0.85      0.72      0.78      1715\n",
      "       threat       0.27      0.11      0.15        74\n",
      "       insult       0.75      0.59      0.66      1614\n",
      "identity_hate       0.31      0.07      0.12       294\n",
      "\n",
      "    micro avg       0.81      0.61      0.70      7074\n",
      "    macro avg       0.59      0.41      0.47      7074\n",
      " weighted avg       0.79      0.61      0.69      7074\n",
      "  samples avg       0.98      0.95      0.94      7074\n",
      "\n"
     ]
    }
   ],
   "source": [
    "from sklearn.metrics import classification_report\n",
    "\n",
    "print(classification_report(test_y, y_pred_fixed, target_names=label_names, zero_division=1))"
   ]
  },
  {
   "cell_type": "code",
   "execution_count": null,
   "id": "822d3d32",
   "metadata": {},
   "outputs": [],
   "source": []
  }
 ],
 "metadata": {
  "kernelspec": {
   "display_name": "Python 3 (ipykernel)",
   "language": "python",
   "name": "python3"
  },
  "language_info": {
   "codemirror_mode": {
    "name": "ipython",
    "version": 3
   },
   "file_extension": ".py",
   "mimetype": "text/x-python",
   "name": "python",
   "nbconvert_exporter": "python",
   "pygments_lexer": "ipython3",
   "version": "3.8.10"
  }
 },
 "nbformat": 4,
 "nbformat_minor": 5
}
